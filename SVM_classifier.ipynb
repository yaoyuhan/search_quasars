{
 "cells": [
  {
   "cell_type": "markdown",
   "metadata": {},
   "source": [
    "# SVM Star-Quasar Classifier"
   ]
  },
  {
   "cell_type": "markdown",
   "metadata": {
    "collapsed": true
   },
   "source": [
    "This code is adapted from Sumin Tang's old GitHub page:\n",
    "    https://github.com/tangsm/SVM-quasars/blob/master/SVM_quasar_search.py\n",
    "\n",
    "**Aim**: Identify quasars behind M31 with SVM linear model, including\n",
    "    1. Formatting the data\n",
    "    2. Feature visualization\n",
    "    3. Feature selection & parameter tuning in classifiers\n",
    "    4. Classification\n",
    "\n",
    "**-- Input file (data.fits)**: A table in fits format that contains information for 18603 light curves, including\n",
    "    * RA, DEC,  \n",
    "    * 40 features,  \n",
    "    * group index (i.e., if SDSS and/or WISE data are available),  \n",
    "    * lable index (1=known quasar, 0=known star, -1=unknown)  \n",
    "  \n",
    "-- Output file:\n",
    "    "
   ]
  },
  {
   "cell_type": "code",
   "execution_count": 1,
   "metadata": {
    "collapsed": false
   },
   "outputs": [
    {
     "name": "stdout",
     "output_type": "stream",
     "text": [
      "Populating the interactive namespace from numpy and matplotlib\n"
     ]
    },
    {
     "name": "stderr",
     "output_type": "stream",
     "text": [
      "/Users/yaoyuhan/anaconda/lib/python2.7/site-packages/sklearn/cross_validation.py:44: DeprecationWarning: This module was deprecated in version 0.18 in favor of the model_selection module into which all the refactored classes and functions are moved. Also note that the interface of the new CV iterators are different from that of this module. This module will be removed in 0.20.\n",
      "  \"This module will be removed in 0.20.\", DeprecationWarning)\n"
     ]
    }
   ],
   "source": [
    "%pylab inline\n",
    "import os\n",
    "import time\n",
    "import pylab\n",
    "import numpy as np\n",
    "import matplotlib.pyplot as plt\n",
    "from astropy.io import fits\n",
    "from sklearn import svm\n",
    "from sklearn import metrics\n",
    "from sklearn import feature_selection\n",
    "from sklearn import cross_validation\n",
    "from sklearn.feature_selection import RFECV\n",
    "from sklearn.feature_selection import SelectKBest\n",
    "from sklearn.model_selection import StratifiedKFold\n",
    "from sklearn.discriminant_analysis import LinearDiscriminantAnalysis"
   ]
  },
  {
   "cell_type": "markdown",
   "metadata": {},
   "source": [
    "## Part 1. Formatting the data"
   ]
  },
  {
   "cell_type": "code",
   "execution_count": 2,
   "metadata": {
    "collapsed": false
   },
   "outputs": [
    {
     "name": "stdout",
     "output_type": "stream",
     "text": [
      "@Yao: Analyze Group 1 (with both SDSS and WISE data)...\n"
     ]
    }
   ],
   "source": [
    "basedir = os.getcwd() + \"/\"\n",
    "data_ = fits.open(basedir+'data.fits')[1].data\n",
    "ind1 = data_['group']==1 \n",
    "print \"@Yao: Analyze Group 1 (with both SDSS and WISE data)...\"\n",
    "data = data_[ind1] \n",
    "nrow = len(data['RA'])\n",
    "featurenames = ['A','gamma','ltau','lvar',\n",
    "                'MedianMag','rMeanMedian','MedianAbsDev','lcstd',\n",
    "                'lcstd1','lcstd3','lcstd5','nr1','nr3','nr5',\n",
    "                'nra1','nrb1','nrca1','nrcb1',\n",
    "                'nrcf1','nrcf3','nrcf5','lcamp',\n",
    "                'lcamp1','lcamp3','lcamp5','chi2',\n",
    "                'chi2_1','chi2_5','s','k',\n",
    "                'rmsratio','ts5','ts1','nall',\n",
    "                'umg_sdss','W1mW2','gmr_pst','rmi_pst','imz_pst','zmy_pst']"
   ]
  },
  {
   "cell_type": "code",
   "execution_count": 3,
   "metadata": {
    "collapsed": true
   },
   "outputs": [],
   "source": [
    "X_data = np.zeros((nrow, len(featurenames)))\n",
    "for i in range(len(featurenames)):\n",
    "    ftname = featurenames[i]\n",
    "    datacolumn = data[ftname]\n",
    "    assert np.sum(np.isnan(datacolumn))<20\n",
    "    datacolumn[np.isnan(datacolumn)] = 0\n",
    "    X_data[:,i] = datacolumn\n",
    "    xmean = np.mean(datacolumn)\n",
    "    xstd = np.std(datacolumn)\n",
    "    if xstd<0.01:\n",
    "        xstd = 1.\n",
    "    X_data[:,i] = (datacolumn - xmean)/xstd"
   ]
  },
  {
   "cell_type": "code",
   "execution_count": 4,
   "metadata": {
    "collapsed": false
   },
   "outputs": [
    {
     "name": "stdout",
     "output_type": "stream",
     "text": [
      "@Yao: 6182 labeled + unlabeled objects,\n",
      "\t40 features.\n"
     ]
    }
   ],
   "source": [
    "print \"@Yao: %d labeled + unlabeled objects,\\n\\t%d features.\" %(X_data.shape[0],X_data.shape[1])\n",
    "#print X_data.mean(axis=0)\n",
    "#print X_data.std(axis=0)"
   ]
  },
  {
   "cell_type": "code",
   "execution_count": 5,
   "metadata": {
    "collapsed": false
   },
   "outputs": [
    {
     "name": "stdout",
     "output_type": "stream",
     "text": [
      "@Yao: Format labeled objects...\n",
      "50 labeled quasars\n",
      "131 labeled stars\n"
     ]
    }
   ],
   "source": [
    "print \"@Yao: Format labeled objects...\"\n",
    "myflag = data['lable']\n",
    "label_qso_ind = myflag==1\n",
    "print \"%d labeled quasars\" %np.sum(label_qso_ind) \n",
    "label_star_ind = myflag==0\n",
    "print \"%d labeled stars\" %np.sum(label_star_ind) \n",
    "X_labeled = np.vstack([X_data[label_qso_ind],\n",
    "                       X_data[label_star_ind]])\n",
    "Y_labeled = np.hstack([np.ones(np.sum(label_qso_ind)),\n",
    "                       np.zeros(np.sum(label_star_ind))])\n",
    "data_qso = data[label_qso_ind]\n",
    "data_star = data[label_star_ind]"
   ]
  },
  {
   "cell_type": "code",
   "execution_count": 6,
   "metadata": {
    "collapsed": false
   },
   "outputs": [
    {
     "name": "stdout",
     "output_type": "stream",
     "text": [
      "@Yao: Format unlabeled objects...\n",
      "6001 unlabeled objects\n"
     ]
    }
   ],
   "source": [
    "print \"@Yao: Format unlabeled objects...\"\n",
    "unlabel_ind = myflag==-1\n",
    "print \"%d unlabeled objects\" %np.sum(unlabel_ind) \n",
    "X_unlabeled = X_data[unlabel_ind]"
   ]
  },
  {
   "cell_type": "markdown",
   "metadata": {},
   "source": [
    "## Part 2. Feature visualization"
   ]
  },
  {
   "cell_type": "markdown",
   "metadata": {},
   "source": [
    "### 2.1 Linear Discrimination Analysis (LDA)"
   ]
  },
  {
   "cell_type": "code",
   "execution_count": 7,
   "metadata": {
    "collapsed": false
   },
   "outputs": [
    {
     "name": "stderr",
     "output_type": "stream",
     "text": [
      "/Users/yaoyuhan/anaconda/lib/python2.7/site-packages/sklearn/discriminant_analysis.py:387: UserWarning: Variables are collinear.\n",
      "  warnings.warn(\"Variables are collinear.\")\n"
     ]
    },
    {
     "data": {
      "text/plain": [
       "LinearDiscriminantAnalysis(n_components=1, priors=None, shrinkage=None,\n",
       "              solver='svd', store_covariance=False, tol=0.0001)"
      ]
     },
     "execution_count": 7,
     "metadata": {},
     "output_type": "execute_result"
    }
   ],
   "source": [
    "lda_model = LinearDiscriminantAnalysis(n_components=1)\n",
    "lda_model.fit(X_labeled, Y_labeled)"
   ]
  },
  {
   "cell_type": "code",
   "execution_count": 8,
   "metadata": {
    "collapsed": false
   },
   "outputs": [
    {
     "data": {
      "text/plain": [
       "<matplotlib.text.Text at 0x111dd04d0>"
      ]
     },
     "execution_count": 8,
     "metadata": {},
     "output_type": "execute_result"
    },
    {
     "data": {
      "image/png": "[encoded data removed]",
      "text/plain": [
       "<matplotlib.figure.Figure at 0x111ebbc10>"
      ]
     },
     "metadata": {},
     "output_type": "display_data"
    }
   ],
   "source": [
    "X_lda = lda_model.transform(X_labeled)\n",
    "fig = plt.figure(figsize=(4,3))\n",
    "ax = fig.add_subplot(111)\n",
    "ix = np.where(Y_labeled==0)[0]\n",
    "ax.plot(X_lda[ix, 0], X_lda[ix, 0]+np.random.randn(len(ix))*0.1, '.', \n",
    "        color='darkorange', markersize=8, alpha=0.8, label='stars')\n",
    "ix = np.where(Y_labeled==1)[0]\n",
    "ax.plot(X_lda[ix, 0], X_lda[ix, 0]+np.random.randn(len(ix))*0.1, '.', \n",
    "        color='b', markersize = 8, alpha=0.8,label='quasars')\n",
    "ax.legend(numpoints = 1, loc='lower right')\n",
    "plt.title( \"Linear Discriminant Analysis (LDA) Projection\")"
   ]
  },
  {
   "cell_type": "markdown",
   "metadata": {},
   "source": [
    "### 2.2 Plot the two most informative features"
   ]
  },
  {
   "cell_type": "code",
   "execution_count": 9,
   "metadata": {
    "collapsed": false
   },
   "outputs": [
    {
     "name": "stdout",
     "output_type": "stream",
     "text": [
      "@Yao: Feature selection based on univariate feature selection...\n"
     ]
    }
   ],
   "source": [
    "print \"@Yao: Feature selection based on univariate feature selection...\"\n",
    "kfeature = 2\n",
    "featureSelector = SelectKBest(score_func=feature_selection.f_classif,k=kfeature)"
   ]
  },
  {
   "cell_type": "code",
   "execution_count": 10,
   "metadata": {
    "collapsed": false
   },
   "outputs": [],
   "source": [
    "featureSelector.fit(X_labeled,Y_labeled)\n",
    "importances = featureSelector.scores_\n",
    "indices = np.argsort(importances)[::-1]\n",
    "ft1 = featurenames[indices[0]]\n",
    "ft2 = featurenames[indices[1]]"
   ]
  },
  {
   "cell_type": "code",
   "execution_count": 11,
   "metadata": {
    "collapsed": false
   },
   "outputs": [
    {
     "name": "stdout",
     "output_type": "stream",
     "text": [
      "Feature 1: W1mW2;\n",
      "Feature 2: ltau.\n"
     ]
    }
   ],
   "source": [
    "print \"Feature 1: %s;\\nFeature 2: %s.\"%(ft1,ft2)"
   ]
  },
  {
   "cell_type": "code",
   "execution_count": 12,
   "metadata": {
    "collapsed": false
   },
   "outputs": [
    {
     "data": {
      "image/png": "[encoded data removed]",
      "text/plain": [
       "<matplotlib.figure.Figure at 0x111ebb590>"
      ]
     },
     "metadata": {},
     "output_type": "display_data"
    }
   ],
   "source": [
    "fig = plt.figure(figsize=(5,3.5))\n",
    "ax = fig.add_subplot(111)\n",
    "ax.plot(data_star[ft1], data_star[ft2], '.',color='darkorange', \n",
    "            markersize=8, label='stars')\n",
    "ax.plot(data_qso[ft1], data_qso[ft2], '.', color='b',\n",
    "            markersize=8, label='quasars')\n",
    "ax.legend(numpoints = 1, loc='upper left')\n",
    "ax.set_xlabel('Feature 1')\n",
    "ax.set_ylabel('Feature 2')\n",
    "ax.set_ylim([-1.1, 3.])\n",
    "ax.set_xlim([-1., 2.])\n",
    "plt.tight_layout()\n",
    "plt.savefig(basedir +'2features.pdf')"
   ]
  },
  {
   "cell_type": "markdown",
   "metadata": {},
   "source": [
    "## Part 3. Feature selection and parameter tuning in classifiers\n",
    "We use recursive feature elimination with cross-validation (RFECV).\n",
    "Create the RFE object and compute a cross-validated score."
   ]
  },
  {
   "cell_type": "code",
   "execution_count": 13,
   "metadata": {
    "collapsed": true
   },
   "outputs": [],
   "source": [
    "t0 = time.time()\n",
    "h = open(basedir + 'score-svmlinear.txt', 'w')\n",
    "h.write(\"# iter_index, C, nfeature, score\\n\")"
   ]
  },
  {
   "cell_type": "code",
   "execution_count": 14,
   "metadata": {
    "collapsed": false
   },
   "outputs": [
    {
     "name": "stdout",
     "output_type": "stream",
     "text": [
      "(40, 11, 20)\n"
     ]
    }
   ],
   "source": [
    "Cgrid = 10.**np.linspace(-2, 2, 11)\n",
    "ncgrid = len(Cgrid)\n",
    "niter = 20\n",
    "featurerank = np.zeros((X_labeled.shape[1], ncgrid, niter))\n",
    "print featurerank.shape "
   ]
  },
  {
   "cell_type": "code",
   "execution_count": 15,
   "metadata": {
    "collapsed": false
   },
   "outputs": [
    {
     "name": "stdout",
     "output_type": "stream",
     "text": [
      "Time elapsed in feature selection (SVM Linear, 20 iterations): 215.73 s\n"
     ]
    }
   ],
   "source": [
    "for i in range(niter):\n",
    "    cv = StratifiedKFold(n_splits=10, shuffle=True)    \n",
    "    for ii in range(ncgrid):\n",
    "        myc = Cgrid[ii]\n",
    "        clf = svm.SVC(C = myc, kernel='linear', class_weight='balanced')\n",
    "        rfecv = RFECV(estimator=clf, step=1, cv=cv, scoring='accuracy')\n",
    "        rfecv.fit(X_labeled,Y_labeled)\n",
    "\n",
    "        for j in range(len(rfecv.grid_scores_)):\n",
    "            h.write(\"%d  %f  %i  %f\\n\" % (i, myc, j+1, rfecv.grid_scores_[j]))\n",
    "            featurerank[j, ii, i] = rfecv.ranking_[j]\n",
    "\n",
    "h.close()\n",
    "t1 = time.time()\n",
    "print \"Time elapsed in feature selection (SVM Linear, %d iterations): %.2f s\" % (niter, t1 - t0)"
   ]
  },
  {
   "cell_type": "code",
   "execution_count": 16,
   "metadata": {
    "collapsed": false
   },
   "outputs": [
    {
     "name": "stdout",
     "output_type": "stream",
     "text": [
      "Loading result...\n"
     ]
    }
   ],
   "source": [
    "print \"Loading result...\"\n",
    "iter_ind, Cvalue, nfeature, score = np.loadtxt(basedir + 'score-svmlinear.txt', unpack=True, skiprows=1)"
   ]
  },
  {
   "cell_type": "code",
   "execution_count": 17,
   "metadata": {
    "collapsed": false
   },
   "outputs": [],
   "source": [
    "fn = np.linspace(1, int(max(nfeature))+1, int(max(nfeature)))\n",
    "myscoresvm = np.zeros(len(fn))\n",
    "mycvalue = np.zeros(len(fn))\n",
    "myscorec = np.zeros(ncgrid)\n",
    "for i in range(len(fn)):\n",
    "    kfeature = i+1\n",
    "    # select the best C value\n",
    "    for j in range(len(Cgrid)):\n",
    "        myc = Cgrid[j]\n",
    "        ix = np.where((nfeature==kfeature)&(np.abs(Cvalue-myc)<myc*0.01))[0]\n",
    "        myscorec[j] = np.mean(score[ix])\n",
    "    iy = np.where(myscorec == np.max(myscorec))[0]\n",
    "    myscoresvm[i] = np.max(myscorec)\n",
    "    mycvalue[i] = np.mean(Cgrid[iy])"
   ]
  },
  {
   "cell_type": "code",
   "execution_count": 18,
   "metadata": {
    "collapsed": false
   },
   "outputs": [
    {
     "name": "stdout",
     "output_type": "stream",
     "text": [
      "SVM Linear, optimal number of features: 2\n",
      "SVM Linear, optimal C: 1.000000\n"
     ]
    }
   ],
   "source": [
    "ix=np.where(myscoresvm==np.max(myscoresvm))[0]\n",
    "svmbestn = fn[ix[0]]\n",
    "svmbestc = mycvalue[ix[0]]\n",
    "print \"SVM Linear, optimal number of features: %i\" % (svmbestn)\n",
    "print \"SVM Linear, optimal C: %f\" % (svmbestc)"
   ]
  },
  {
   "cell_type": "code",
   "execution_count": 19,
   "metadata": {
    "collapsed": false
   },
   "outputs": [
    {
     "data": {
      "text/plain": [
       "[<matplotlib.lines.Line2D at 0x111edac50>]"
      ]
     },
     "execution_count": 19,
     "metadata": {},
     "output_type": "execute_result"
    },
    {
     "data": {
      "image/png": "[encoded data removed]",
      "text/plain": [
       "<matplotlib.figure.Figure at 0x1145a4310>"
      ]
     },
     "metadata": {},
     "output_type": "display_data"
    }
   ],
   "source": [
    "fig = plt.figure()\n",
    "ax = fig.add_subplot(111)\n",
    "ax.set_xlabel(\"Number of features used\", fontsize = 12)\n",
    "ax.set_ylabel(\"Cross validation score\", fontsize = 12)\n",
    "ax.plot(fn, myscoresvm, 'c-o')"
   ]
  },
  {
   "cell_type": "markdown",
   "metadata": {
    "collapsed": true
   },
   "source": [
    "## Part 4. Classification\n",
    "Using SVM linear, adopting C = 1.0, using the best 2 features."
   ]
  },
  {
   "cell_type": "code",
   "execution_count": 20,
   "metadata": {
    "collapsed": false
   },
   "outputs": [
    {
     "name": "stdout",
     "output_type": "stream",
     "text": [
      "['ltau' 'W1mW2']\n"
     ]
    }
   ],
   "source": [
    "clf = svm.SVC(C=1.,kernel='linear',class_weight='balanced',probability=True) \n",
    "# select features and format labeled data\n",
    "featureSelector = SelectKBest(score_func=feature_selection.f_classif, k=2)\n",
    "featureSelector.fit(X_labeled,Y_labeled)\n",
    "ixselect = featureSelector.get_support(indices = True)\n",
    "# print ixselect\n",
    "print np.asarray(featurenames)[ixselect]"
   ]
  },
  {
   "cell_type": "code",
   "execution_count": 21,
   "metadata": {
    "collapsed": false
   },
   "outputs": [],
   "source": [
    "# Format the full, qso, and star datasets\n",
    "X_labeled_new = X_labeled[:, ixselect]\n",
    "X_qso_new = X_data[label_qso_ind][:, ixselect]\n",
    "X_star_new = X_data[label_star_ind][:, ixselect]\n",
    "X_unlabeled_new = X_data[unlabel_ind][:, ixselect]\n",
    "X_new = X_data[:,ixselect]"
   ]
  },
  {
   "cell_type": "code",
   "execution_count": 22,
   "metadata": {
    "collapsed": false
   },
   "outputs": [
    {
     "name": "stdout",
     "output_type": "stream",
     "text": [
      "50 131 6182 6001\n"
     ]
    }
   ],
   "source": [
    "nqso = X_qso_new.shape[0] \n",
    "nstar = X_star_new.shape[0] \n",
    "nall = X_new.shape[0] \n",
    "nunlabeled = X_unlabeled_new.shape[0] \n",
    "print nqso, nstar, nall, nunlabeled"
   ]
  },
  {
   "cell_type": "code",
   "execution_count": 24,
   "metadata": {
    "collapsed": false
   },
   "outputs": [],
   "source": [
    "nfolds = 10\n",
    "kf = cross_validation.KFold(len(Y_labeled), n_folds=nfolds, shuffle=True, random_state=0)\n",
    "# kf = StratifiedKFold(n_splits=10, shuffle=True)    \n",
    "cm = np.zeros((2,2))\n",
    "qsoprob_all = np.zeros(nall)\n",
    "qsoprob_qso = np.zeros(nqso)\n",
    "qsoprob_star = np.zeros(nstar)\n",
    "qsoprob_unlabeled = np.zeros(nunlabeled)\n",
    "\n",
    "for train_index, test_index in kf:\n",
    "    data_train, data_test = X_labeled_new[train_index], X_labeled_new[test_index]\n",
    "    target_train, target_test = Y_labeled[train_index], Y_labeled[test_index]\n",
    "\n",
    "    # fit the training set\n",
    "    clf.fit(data_train, target_train)\n",
    "\n",
    "    # confusion matrix\n",
    "    predicted = clf.predict(data_test)\n",
    "    expected = target_test\n",
    "    cm = cm + metrics.confusion_matrix(expected, predicted)\n",
    "    \n",
    "    # prob of being quasars in the full, qso, and star samples\n",
    "    qsopredict_prob = clf.predict_proba(X_new)\n",
    "    qsoprob_all = qsoprob_all + qsopredict_prob[:, 1]\n",
    "    \n",
    "    qsopredict_prob = clf.predict_proba(X_qso_new)\n",
    "    qsoprob_qso = qsoprob_qso + qsopredict_prob[:, 1]\n",
    "        \n",
    "    qsopredict_prob = clf.predict_proba(X_star_new)\n",
    "    qsoprob_star = qsoprob_star + qsopredict_prob[:, 1]\n",
    "    \n",
    "    qsopredict_prob = clf.predict_proba(X_unlabeled_new)\n",
    "    qsoprob_unlabeled = qsoprob_unlabeled + qsopredict_prob[:, 1]\n",
    "\n",
    "\n",
    "# average the probability of being quasar\n",
    "qsoprob_all_norm = 1.*qsoprob_all/nfolds\n",
    "qsoprob_qso_norm = 1.*qsoprob_qso/nfolds\n",
    "qsoprob_star_norm = 1.*qsoprob_star/nfolds\n",
    "qsoprob_unlabeled_norm = 1.*qsoprob_unlabeled/nfolds"
   ]
  },
  {
   "cell_type": "code",
   "execution_count": 25,
   "metadata": {
    "collapsed": false
   },
   "outputs": [
    {
     "name": "stdout",
     "output_type": "stream",
     "text": [
      "[[ 130.    1.]\n",
      " [   0.   50.]]\n",
      "[[ 0.99236641  0.00763359]\n",
      " [ 0.          1.        ]]\n"
     ]
    }
   ],
   "source": [
    "labels = ['others', 'quasars']\n",
    "cm2 = np.zeros((2,2))\n",
    "cm2[0, :] = 1.*cm[0, :]/cm[0,:].sum()\n",
    "cm2[1, :] = 1.*cm[1, :]/cm[1,:].sum()\n",
    "print(cm)\n",
    "print(cm2)"
   ]
  },
  {
   "cell_type": "code",
   "execution_count": 26,
   "metadata": {
    "collapsed": false
   },
   "outputs": [
    {
     "data": {
      "image/png": "[encoded data removed]",
      "text/plain": [
       "<matplotlib.figure.Figure at 0x1148b8310>"
      ]
     },
     "metadata": {},
     "output_type": "display_data"
    }
   ],
   "source": [
    "fig = plt.figure()\n",
    "ax = fig.add_subplot(111)\n",
    "cax = ax.matshow(cm2, cmap='gray', vmin=0, vmax=1)\n",
    "ax.set_title('Confusion matrix of the SVM linear classifier',fontsize=13)\n",
    "fig.colorbar(cax)\n",
    "ax.set_xticklabels([''] + labels)\n",
    "ax.set_yticklabels([''] + labels)\n",
    "ax.set_xlabel('Predicted', fontsize=12)\n",
    "ax.set_ylabel('True', fontsize=12)\n",
    "for i in range(2):\n",
    "    for j in range(2):\n",
    "        ax.text(j, i, '%.3f' % (cm[i,j]/cm[i,:].sum()), horizontalalignment='center', \n",
    "                verticalalignment='center', fontsize = 18, color='blue')\n",
    "plt.tight_layout()"
   ]
  },
  {
   "cell_type": "code",
   "execution_count": null,
   "metadata": {
    "collapsed": true
   },
   "outputs": [],
   "source": []
  }
 ],
 "metadata": {
  "kernelspec": {
   "display_name": "Python 2",
   "language": "python",
   "name": "python2"
  },
  "language_info": {
   "codemirror_mode": {
    "name": "ipython",
    "version": 2
   },
   "file_extension": ".py",
   "mimetype": "text/x-python",
   "name": "python",
   "nbconvert_exporter": "python",
   "pygments_lexer": "ipython2",
   "version": "2.7.13"
  }
 },
 "nbformat": 4,
 "nbformat_minor": 2
}
